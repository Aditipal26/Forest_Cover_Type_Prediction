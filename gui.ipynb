{
  "cells": [
    {
      "cell_type": "code",
      "execution_count": null,
      "metadata": {
        "colab": {
          "base_uri": "https://localhost:8080/"
        },
        "id": "dG4DrR61hTQq",
        "outputId": "89a33a69-474a-4383-cd01-1ef8b806577f"
      },
      "outputs": [
        {
          "output_type": "stream",
          "name": "stdout",
          "text": [
            "Looking in indexes: https://pypi.org/simple, https://us-python.pkg.dev/colab-wheels/public/simple/\n",
            "Collecting flask-ngrok\n",
            "  Downloading flask_ngrok-0.0.25-py3-none-any.whl (3.1 kB)\n",
            "Collecting pyngrok\n",
            "  Downloading pyngrok-6.0.0.tar.gz (681 kB)\n",
            "\u001b[2K     \u001b[90m━━━━━━━━━━━━━━━━━━━━━━━━━━━━━━━━━━━━━━\u001b[0m \u001b[32m681.2/681.2 kB\u001b[0m \u001b[31m10.5 MB/s\u001b[0m eta \u001b[36m0:00:00\u001b[0m\n",
            "\u001b[?25h  Preparing metadata (setup.py) ... \u001b[?25l\u001b[?25hdone\n",
            "Requirement already satisfied: Flask>=0.8 in /usr/local/lib/python3.9/dist-packages (from flask-ngrok) (2.2.3)\n",
            "Requirement already satisfied: requests in /usr/local/lib/python3.9/dist-packages (from flask-ngrok) (2.27.1)\n",
            "Requirement already satisfied: PyYAML in /usr/local/lib/python3.9/dist-packages (from pyngrok) (6.0)\n",
            "Requirement already satisfied: Jinja2>=3.0 in /usr/local/lib/python3.9/dist-packages (from Flask>=0.8->flask-ngrok) (3.1.2)\n",
            "Requirement already satisfied: itsdangerous>=2.0 in /usr/local/lib/python3.9/dist-packages (from Flask>=0.8->flask-ngrok) (2.1.2)\n",
            "Requirement already satisfied: click>=8.0 in /usr/local/lib/python3.9/dist-packages (from Flask>=0.8->flask-ngrok) (8.1.3)\n",
            "Requirement already satisfied: importlib-metadata>=3.6.0 in /usr/local/lib/python3.9/dist-packages (from Flask>=0.8->flask-ngrok) (6.4.1)\n",
            "Requirement already satisfied: Werkzeug>=2.2.2 in /usr/local/lib/python3.9/dist-packages (from Flask>=0.8->flask-ngrok) (2.2.3)\n",
            "Requirement already satisfied: charset-normalizer~=2.0.0 in /usr/local/lib/python3.9/dist-packages (from requests->flask-ngrok) (2.0.12)\n",
            "Requirement already satisfied: urllib3<1.27,>=1.21.1 in /usr/local/lib/python3.9/dist-packages (from requests->flask-ngrok) (1.26.15)\n",
            "Requirement already satisfied: idna<4,>=2.5 in /usr/local/lib/python3.9/dist-packages (from requests->flask-ngrok) (3.4)\n",
            "Requirement already satisfied: certifi>=2017.4.17 in /usr/local/lib/python3.9/dist-packages (from requests->flask-ngrok) (2022.12.7)\n",
            "Requirement already satisfied: zipp>=0.5 in /usr/local/lib/python3.9/dist-packages (from importlib-metadata>=3.6.0->Flask>=0.8->flask-ngrok) (3.15.0)\n",
            "Requirement already satisfied: MarkupSafe>=2.0 in /usr/local/lib/python3.9/dist-packages (from Jinja2>=3.0->Flask>=0.8->flask-ngrok) (2.1.2)\n",
            "Building wheels for collected packages: pyngrok\n",
            "  Building wheel for pyngrok (setup.py) ... \u001b[?25l\u001b[?25hdone\n",
            "  Created wheel for pyngrok: filename=pyngrok-6.0.0-py3-none-any.whl size=19879 sha256=5894b7305c178a6ec51f7effca07090788549bc14b44a7f275487e6cc95e9ff4\n",
            "  Stored in directory: /root/.cache/pip/wheels/31/49/9c/44b13823eb256a3b4dff34b972f7a3c7d9910bfef269e59bd7\n",
            "Successfully built pyngrok\n",
            "Installing collected packages: pyngrok, flask-ngrok\n",
            "Successfully installed flask-ngrok-0.0.25 pyngrok-6.0.0\n"
          ]
        }
      ],
      "source": [
        "!pip install flask-ngrok pyngrok"
      ]
    },
    {
      "cell_type": "code",
      "execution_count": null,
      "metadata": {
        "colab": {
          "base_uri": "https://localhost:8080/"
        },
        "id": "Hi1C6BnYCSyj",
        "outputId": "cd0fc4cc-3781-4f70-a0cf-3e44957a34d7"
      },
      "outputs": [
        {
          "output_type": "stream",
          "name": "stdout",
          "text": [
            "Authtoken saved to configuration file: /root/.ngrok2/ngrok.yml\n"
          ]
        }
      ],
      "source": [
        "!ngrok authtoken 2NwrWo4Z4Q9a85RQJKSaLTvqu30_2QMPGSZeKnXgEq9wDbFNR"
      ]
    },
    {
      "cell_type": "code",
      "execution_count": null,
      "metadata": {
        "colab": {
          "base_uri": "https://localhost:8080/"
        },
        "id": "kRk6ge10JxM6",
        "outputId": "4f65d83a-294d-4537-d809-ce411651d56d"
      },
      "outputs": [
        {
          "output_type": "stream",
          "name": "stdout",
          "text": [
            "Mounted at /content/drive\n"
          ]
        }
      ],
      "source": [
        "from google.colab import drive\n",
        "drive.mount('/content/drive')"
      ]
    },
    {
      "cell_type": "code",
      "execution_count": null,
      "metadata": {
        "colab": {
          "base_uri": "https://localhost:8080/"
        },
        "id": "7N8u1gmzhmXc",
        "outputId": "1eaf634d-5234-4899-87e6-bd0d09822715"
      },
      "outputs": [
        {
          "metadata": {
            "tags": null
          },
          "name": "stdout",
          "output_type": "stream",
          "text": [
            " * Serving Flask app '__main__'\n",
            " * Debug mode: off\n"
          ]
        },
        {
          "metadata": {
            "tags": null
          },
          "name": "stderr",
          "output_type": "stream",
          "text": [
            "INFO:werkzeug:\u001b[31m\u001b[1mWARNING: This is a development server. Do not use it in a production deployment. Use a production WSGI server instead.\u001b[0m\n",
            " * Running on http://127.0.0.1:5000\n",
            "INFO:werkzeug:\u001b[33mPress CTRL+C to quit\u001b[0m\n"
          ]
        },
        {
          "metadata": {
            "tags": null
          },
          "name": "stdout",
          "output_type": "stream",
          "text": [
            " * Running on http://00d8-34-74-140-3.ngrok-free.app\n",
            " * Traffic stats available on http://127.0.0.1:4040\n"
          ]
        },
        {
          "metadata": {
            "tags": null
          },
          "name": "stderr",
          "output_type": "stream",
          "text": [
            "INFO:werkzeug:127.0.0.1 - - [26/Apr/2023 09:30:22] \"GET / HTTP/1.1\" 200 -\n",
            "INFO:werkzeug:127.0.0.1 - - [26/Apr/2023 09:30:37] \"GET / HTTP/1.1\" 200 -\n",
            "INFO:werkzeug:127.0.0.1 - - [26/Apr/2023 09:30:39] \"GET /static/css/style.css HTTP/1.1\" 200 -\n",
            "INFO:werkzeug:127.0.0.1 - - [26/Apr/2023 09:30:39] \"\u001b[33mGET /favicon.ico HTTP/1.1\u001b[0m\" 404 -\n",
            "INFO:werkzeug:127.0.0.1 - - [26/Apr/2023 09:30:40] \"GET /static/assets/forest.jpg HTTP/1.1\" 200 -\n",
            "INFO:werkzeug:127.0.0.1 - - [26/Apr/2023 09:30:53] \"GET / HTTP/1.1\" 200 -\n",
            "INFO:werkzeug:127.0.0.1 - - [26/Apr/2023 09:30:54] \"GET /static/css/style.css HTTP/1.1\" 200 -\n",
            "INFO:werkzeug:127.0.0.1 - - [26/Apr/2023 09:30:55] \"GET /static/assets/forest.jpg HTTP/1.1\" 200 -\n",
            "INFO:werkzeug:127.0.0.1 - - [26/Apr/2023 09:30:55] \"\u001b[33mGET /favicon.ico HTTP/1.1\u001b[0m\" 404 -\n",
            "/usr/local/lib/python3.9/dist-packages/sklearn/base.py:439: UserWarning: X does not have valid feature names, but KNeighborsClassifier was fitted with feature names\n",
            "  warnings.warn(\n",
            "INFO:werkzeug:127.0.0.1 - - [26/Apr/2023 09:32:15] \"POST /predict HTTP/1.1\" 200 -\n",
            "INFO:werkzeug:127.0.0.1 - - [26/Apr/2023 09:32:16] \"\u001b[36mGET /static/css/style.css HTTP/1.1\u001b[0m\" 304 -\n",
            "INFO:werkzeug:127.0.0.1 - - [26/Apr/2023 09:32:16] \"\u001b[36mGET /static/assets/forest.jpg HTTP/1.1\u001b[0m\" 304 -\n",
            "/usr/local/lib/python3.9/dist-packages/sklearn/base.py:439: UserWarning: X does not have valid feature names, but KNeighborsClassifier was fitted with feature names\n",
            "  warnings.warn(\n",
            "INFO:werkzeug:127.0.0.1 - - [26/Apr/2023 09:40:51] \"POST /predict HTTP/1.1\" 200 -\n",
            "INFO:werkzeug:127.0.0.1 - - [26/Apr/2023 09:40:52] \"\u001b[36mGET /static/css/style.css HTTP/1.1\u001b[0m\" 304 -\n",
            "INFO:werkzeug:127.0.0.1 - - [26/Apr/2023 09:40:53] \"\u001b[36mGET /static/assets/forest.jpg HTTP/1.1\u001b[0m\" 304 -\n"
          ]
        }
      ],
      "source": [
        "from flask import Flask,request, url_for, redirect, render_template\n",
        "import pickle\n",
        "import math\n",
        "import numpy as np\n",
        "from flask_ngrok import run_with_ngrok\n",
        "\n",
        "model=pickle.load(open('drive/MyDrive/FCTP/model.pkl','rb'))\n",
        "\n",
        "app = Flask(__name__, template_folder='drive/MyDrive/FCTP/templates', static_folder='drive/MyDrive/FCTP/static')\n",
        "\n",
        "run_with_ngrok(app)\n",
        "\n",
        "\n",
        "@app.route('/')\n",
        "def hello_world():\n",
        "    return render_template(\"index.html\")\n",
        "\n",
        "\n",
        "@app.route('/predict',methods=['POST','GET'])\n",
        "def predict():\n",
        "\tint_features=[int(x) for x in request.form.values()]\n",
        " \n",
        "\tint_features.insert(3, round(math.sqrt((int_features[3]**2) + (int_features[4]**2))))\n",
        "\tdel int_features[4:6]\n",
        "\tint_features.insert(5, round((int_features[5]+int_features[6]+int_features[7])/3))\n",
        "\tdel int_features[6:9]\n",
        " \n",
        "\tfinal=[np.array(int_features)]\n",
        " \n",
        "\tprediction=model.predict(final)[0]\n",
        "\t\n",
        "\tif(prediction == 1):\n",
        "\t\treturn render_template('index.html', pred=f'Result: The forest is of Covert Type {prediction} i.e. Spruce/Fir')\n",
        "\telif(prediction == 2):\n",
        "\t\treturn render_template('index.html', pred=f'Result: The forest is of Covert Type {prediction} i.e. Lodgepole Pine')\n",
        "\telif(prediction == 3):\n",
        "\t\treturn render_template('index.html', pred=f'Result: The forest is of Covert Type {prediction} i.e. Ponderosa Pine')\n",
        "\telif(prediction == 4):\n",
        "\t\treturn render_template('index.html', pred=f'Result: The forest is of Covert Type {prediction} i.e. Cottonwood/Willow')\n",
        "\telif(prediction == 5):\n",
        "\t\treturn render_template('index.html', pred=f'Result: The forest is of Covert Type {prediction} i.e. Aspen')\n",
        "\telif(prediction == 6):\n",
        "\t\treturn render_template('index.html', pred=f'Result: The forest is of Covert Type {prediction} i.e. Douglas-fir')\n",
        "\telif(prediction == 7):\n",
        "\t\treturn render_template('index.html', pred=f'Result: The forest is of Covert Type {prediction} i.e. Krummholz')\n",
        "\t\n",
        "app.run()\n"
      ]
    }
  ],
  "metadata": {
    "colab": {
      "provenance": []
    },
    "kernelspec": {
      "display_name": "Python 3",
      "name": "python3"
    },
    "language_info": {
      "name": "python"
    }
  },
  "nbformat": 4,
  "nbformat_minor": 0
}