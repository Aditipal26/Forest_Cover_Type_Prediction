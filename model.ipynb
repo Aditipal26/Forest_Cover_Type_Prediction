{
  "cells": [
    {
      "cell_type": "code",
      "execution_count": null,
      "metadata": {
        "id": "3f73nyhXMe4A"
      },
      "outputs": [],
      "source": [
        "import pandas as pd\n",
        "import numpy as np\n",
        "import warnings\n",
        "import math\n",
        "import pickle\n",
        "import seaborn as sns\n",
        "import matplotlib.pyplot as plt\n",
        "from sklearn.model_selection import train_test_split, cross_val_score\n",
        "from sklearn.metrics import accuracy_score, classification_report, confusion_matrix\n",
        "from sklearn.preprocessing import StandardScaler\n",
        "\n",
        "warnings.filterwarnings('ignore')\n",
        "%matplotlib inline"
      ]
    },
    {
      "cell_type": "code",
      "execution_count": null,
      "metadata": {
        "id": "LN5apUD5Me4S"
      },
      "outputs": [],
      "source": [
        "from sklearn.tree import DecisionTreeClassifier\n",
        "from sklearn.linear_model import LogisticRegression\n",
        "from sklearn.neighbors import KNeighborsClassifier\n",
        "from sklearn.naive_bayes import GaussianNB\n",
        "from sklearn.svm import LinearSVC\n",
        "from sklearn.ensemble import RandomForestClassifier , GradientBoostingClassifier"
      ]
    },
    {
      "cell_type": "code",
      "execution_count": null,
      "metadata": {
        "id": "vgp85IqmMe4C",
        "colab": {
          "base_uri": "https://localhost:8080/"
        },
        "outputId": "f1c3db93-edd9-4cc1-ea49-494ed0980667"
      },
      "outputs": [
        {
          "output_type": "stream",
          "name": "stdout",
          "text": [
            "Mounted at /content/drive\n"
          ]
        }
      ],
      "source": [
        "from google.colab import drive\n",
        "drive.mount('/content/drive')\n",
        "\n",
        "data=pd.read_csv('/content/drive/MyDrive/FCTP/covtype.csv')"
      ]
    },
    {
      "cell_type": "code",
      "execution_count": null,
      "metadata": {
        "id": "ieOcX6lcldXy"
      },
      "outputs": [],
      "source": [
        "dist = []\n",
        "\n",
        "for i in range(len(data)):\n",
        "  dist.insert(i, round(math.sqrt(data.loc[i, 'Horizontal_Distance_To_Hydrology']**2 + data.loc[i, 'Vertical_Distance_To_Hydrology']**2)))\n",
        "\n",
        "data.insert(loc = 3, column = 'Distance_To_Hydrology', value = dist)\n",
        "data.drop(['Horizontal_Distance_To_Hydrology', 'Vertical_Distance_To_Hydrology'], axis=1, inplace=True)"
      ]
    },
    {
      "cell_type": "code",
      "execution_count": null,
      "metadata": {
        "id": "B8ieQIKgsAAZ"
      },
      "outputs": [],
      "source": [
        "shade = []\n",
        "\n",
        "for i in range(len(data)):\n",
        "  shade.insert(i, round((data.loc[i, 'Hillshade_9am'] + data.loc[i, 'Hillshade_Noon'] + data.loc[i, 'Hillshade_3pm']) / 3))\n",
        "\n",
        "data.insert(loc = 5, column = 'Hillshade', value = shade)\n",
        "data.drop(['Hillshade_9am', 'Hillshade_Noon', 'Hillshade_3pm'], axis=1, inplace=True)"
      ]
    },
    {
      "cell_type": "code",
      "execution_count": null,
      "metadata": {
        "id": "UfolKO7Vz_9I"
      },
      "outputs": [],
      "source": [
        "area = []\n",
        "\n",
        "for i in range(len(data)):\n",
        "  for j in range(1, 5):\n",
        "    if(data.loc[i, f'Wilderness_Area{j}'] == 1):\n",
        "      area.insert(i, j)\n",
        "      continue\n",
        "\n",
        "data.insert(loc = 7, column = 'Wilderness', value = area)\n",
        "data.drop(['Wilderness_Area1', 'Wilderness_Area2', 'Wilderness_Area3', 'Wilderness_Area4'], axis=1, inplace=True)"
      ]
    },
    {
      "cell_type": "code",
      "execution_count": null,
      "metadata": {
        "id": "5p7ioioh56UD"
      },
      "outputs": [],
      "source": [
        "soil = []\n",
        "\n",
        "for i in range(len(data)):\n",
        "  for j in range(1, 41):\n",
        "    if(data.loc[i, f'Soil_Type{j}'] == 1):\n",
        "      soil.insert(i, j)\n",
        "      continue\n",
        "\n",
        "data.insert(loc = 8, column = 'Soil_Type', value = soil)\n",
        "for j in range(1, 41):\n",
        "  data.drop(f'Soil_Type{j}', axis=1, inplace=True)"
      ]
    },
    {
      "cell_type": "code",
      "execution_count": null,
      "metadata": {
        "id": "hRH_p2_DxpI8",
        "colab": {
          "base_uri": "https://localhost:8080/",
          "height": 488
        },
        "outputId": "d6ad0617-ec94-4741-bc4f-7b3282081bf8"
      },
      "outputs": [
        {
          "output_type": "execute_result",
          "data": {
            "text/plain": [
              "        Elevation  Aspect  Slope  Distance_To_Hydrology  \\\n",
              "0            2596      51      3                    258   \n",
              "1            2590      56      2                    212   \n",
              "2            2804     139      9                    276   \n",
              "3            2785     155     18                    269   \n",
              "4            2595      45      2                    153   \n",
              "...           ...     ...    ...                    ...   \n",
              "581007       2396     153     20                     87   \n",
              "581008       2391     152     19                     68   \n",
              "581009       2386     159     17                     60   \n",
              "581010       2384     170     15                     60   \n",
              "581011       2383     165     13                     60   \n",
              "\n",
              "        Horizontal_Distance_To_Roadways  Hillshade  \\\n",
              "0                                   510        200   \n",
              "1                                   390        202   \n",
              "2                                  3180        202   \n",
              "3                                  3090        199   \n",
              "4                                   391        201   \n",
              "...                                 ...        ...   \n",
              "581007                              108        198   \n",
              "581008                               95        199   \n",
              "581009                               90        202   \n",
              "581010                               90        206   \n",
              "581011                               67        205   \n",
              "\n",
              "        Horizontal_Distance_To_Fire_Points  Wilderness  Soil_Type  Cover_Type  \n",
              "0                                     6279           1         29           5  \n",
              "1                                     6225           1         29           5  \n",
              "2                                     6121           1         12           2  \n",
              "3                                     6211           1         30           2  \n",
              "4                                     6172           1         29           5  \n",
              "...                                    ...         ...        ...         ...  \n",
              "581007                                 837           3          2           3  \n",
              "581008                                 845           3          2           3  \n",
              "581009                                 854           3          2           3  \n",
              "581010                                 864           3          2           3  \n",
              "581011                                 875           3          2           3  \n",
              "\n",
              "[581012 rows x 10 columns]"
            ],
            "text/html": [
              "\n",
              "  <div id=\"df-0fa6f5f9-6ae4-461a-aebd-1fc105bf433a\">\n",
              "    <div class=\"colab-df-container\">\n",
              "      <div>\n",
              "<style scoped>\n",
              "    .dataframe tbody tr th:only-of-type {\n",
              "        vertical-align: middle;\n",
              "    }\n",
              "\n",
              "    .dataframe tbody tr th {\n",
              "        vertical-align: top;\n",
              "    }\n",
              "\n",
              "    .dataframe thead th {\n",
              "        text-align: right;\n",
              "    }\n",
              "</style>\n",
              "<table border=\"1\" class=\"dataframe\">\n",
              "  <thead>\n",
              "    <tr style=\"text-align: right;\">\n",
              "      <th></th>\n",
              "      <th>Elevation</th>\n",
              "      <th>Aspect</th>\n",
              "      <th>Slope</th>\n",
              "      <th>Distance_To_Hydrology</th>\n",
              "      <th>Horizontal_Distance_To_Roadways</th>\n",
              "      <th>Hillshade</th>\n",
              "      <th>Horizontal_Distance_To_Fire_Points</th>\n",
              "      <th>Wilderness</th>\n",
              "      <th>Soil_Type</th>\n",
              "      <th>Cover_Type</th>\n",
              "    </tr>\n",
              "  </thead>\n",
              "  <tbody>\n",
              "    <tr>\n",
              "      <th>0</th>\n",
              "      <td>2596</td>\n",
              "      <td>51</td>\n",
              "      <td>3</td>\n",
              "      <td>258</td>\n",
              "      <td>510</td>\n",
              "      <td>200</td>\n",
              "      <td>6279</td>\n",
              "      <td>1</td>\n",
              "      <td>29</td>\n",
              "      <td>5</td>\n",
              "    </tr>\n",
              "    <tr>\n",
              "      <th>1</th>\n",
              "      <td>2590</td>\n",
              "      <td>56</td>\n",
              "      <td>2</td>\n",
              "      <td>212</td>\n",
              "      <td>390</td>\n",
              "      <td>202</td>\n",
              "      <td>6225</td>\n",
              "      <td>1</td>\n",
              "      <td>29</td>\n",
              "      <td>5</td>\n",
              "    </tr>\n",
              "    <tr>\n",
              "      <th>2</th>\n",
              "      <td>2804</td>\n",
              "      <td>139</td>\n",
              "      <td>9</td>\n",
              "      <td>276</td>\n",
              "      <td>3180</td>\n",
              "      <td>202</td>\n",
              "      <td>6121</td>\n",
              "      <td>1</td>\n",
              "      <td>12</td>\n",
              "      <td>2</td>\n",
              "    </tr>\n",
              "    <tr>\n",
              "      <th>3</th>\n",
              "      <td>2785</td>\n",
              "      <td>155</td>\n",
              "      <td>18</td>\n",
              "      <td>269</td>\n",
              "      <td>3090</td>\n",
              "      <td>199</td>\n",
              "      <td>6211</td>\n",
              "      <td>1</td>\n",
              "      <td>30</td>\n",
              "      <td>2</td>\n",
              "    </tr>\n",
              "    <tr>\n",
              "      <th>4</th>\n",
              "      <td>2595</td>\n",
              "      <td>45</td>\n",
              "      <td>2</td>\n",
              "      <td>153</td>\n",
              "      <td>391</td>\n",
              "      <td>201</td>\n",
              "      <td>6172</td>\n",
              "      <td>1</td>\n",
              "      <td>29</td>\n",
              "      <td>5</td>\n",
              "    </tr>\n",
              "    <tr>\n",
              "      <th>...</th>\n",
              "      <td>...</td>\n",
              "      <td>...</td>\n",
              "      <td>...</td>\n",
              "      <td>...</td>\n",
              "      <td>...</td>\n",
              "      <td>...</td>\n",
              "      <td>...</td>\n",
              "      <td>...</td>\n",
              "      <td>...</td>\n",
              "      <td>...</td>\n",
              "    </tr>\n",
              "    <tr>\n",
              "      <th>581007</th>\n",
              "      <td>2396</td>\n",
              "      <td>153</td>\n",
              "      <td>20</td>\n",
              "      <td>87</td>\n",
              "      <td>108</td>\n",
              "      <td>198</td>\n",
              "      <td>837</td>\n",
              "      <td>3</td>\n",
              "      <td>2</td>\n",
              "      <td>3</td>\n",
              "    </tr>\n",
              "    <tr>\n",
              "      <th>581008</th>\n",
              "      <td>2391</td>\n",
              "      <td>152</td>\n",
              "      <td>19</td>\n",
              "      <td>68</td>\n",
              "      <td>95</td>\n",
              "      <td>199</td>\n",
              "      <td>845</td>\n",
              "      <td>3</td>\n",
              "      <td>2</td>\n",
              "      <td>3</td>\n",
              "    </tr>\n",
              "    <tr>\n",
              "      <th>581009</th>\n",
              "      <td>2386</td>\n",
              "      <td>159</td>\n",
              "      <td>17</td>\n",
              "      <td>60</td>\n",
              "      <td>90</td>\n",
              "      <td>202</td>\n",
              "      <td>854</td>\n",
              "      <td>3</td>\n",
              "      <td>2</td>\n",
              "      <td>3</td>\n",
              "    </tr>\n",
              "    <tr>\n",
              "      <th>581010</th>\n",
              "      <td>2384</td>\n",
              "      <td>170</td>\n",
              "      <td>15</td>\n",
              "      <td>60</td>\n",
              "      <td>90</td>\n",
              "      <td>206</td>\n",
              "      <td>864</td>\n",
              "      <td>3</td>\n",
              "      <td>2</td>\n",
              "      <td>3</td>\n",
              "    </tr>\n",
              "    <tr>\n",
              "      <th>581011</th>\n",
              "      <td>2383</td>\n",
              "      <td>165</td>\n",
              "      <td>13</td>\n",
              "      <td>60</td>\n",
              "      <td>67</td>\n",
              "      <td>205</td>\n",
              "      <td>875</td>\n",
              "      <td>3</td>\n",
              "      <td>2</td>\n",
              "      <td>3</td>\n",
              "    </tr>\n",
              "  </tbody>\n",
              "</table>\n",
              "<p>581012 rows × 10 columns</p>\n",
              "</div>\n",
              "      <button class=\"colab-df-convert\" onclick=\"convertToInteractive('df-0fa6f5f9-6ae4-461a-aebd-1fc105bf433a')\"\n",
              "              title=\"Convert this dataframe to an interactive table.\"\n",
              "              style=\"display:none;\">\n",
              "        \n",
              "  <svg xmlns=\"http://www.w3.org/2000/svg\" height=\"24px\"viewBox=\"0 0 24 24\"\n",
              "       width=\"24px\">\n",
              "    <path d=\"M0 0h24v24H0V0z\" fill=\"none\"/>\n",
              "    <path d=\"M18.56 5.44l.94 2.06.94-2.06 2.06-.94-2.06-.94-.94-2.06-.94 2.06-2.06.94zm-11 1L8.5 8.5l.94-2.06 2.06-.94-2.06-.94L8.5 2.5l-.94 2.06-2.06.94zm10 10l.94 2.06.94-2.06 2.06-.94-2.06-.94-.94-2.06-.94 2.06-2.06.94z\"/><path d=\"M17.41 7.96l-1.37-1.37c-.4-.4-.92-.59-1.43-.59-.52 0-1.04.2-1.43.59L10.3 9.45l-7.72 7.72c-.78.78-.78 2.05 0 2.83L4 21.41c.39.39.9.59 1.41.59.51 0 1.02-.2 1.41-.59l7.78-7.78 2.81-2.81c.8-.78.8-2.07 0-2.86zM5.41 20L4 18.59l7.72-7.72 1.47 1.35L5.41 20z\"/>\n",
              "  </svg>\n",
              "      </button>\n",
              "      \n",
              "  <style>\n",
              "    .colab-df-container {\n",
              "      display:flex;\n",
              "      flex-wrap:wrap;\n",
              "      gap: 12px;\n",
              "    }\n",
              "\n",
              "    .colab-df-convert {\n",
              "      background-color: #E8F0FE;\n",
              "      border: none;\n",
              "      border-radius: 50%;\n",
              "      cursor: pointer;\n",
              "      display: none;\n",
              "      fill: #1967D2;\n",
              "      height: 32px;\n",
              "      padding: 0 0 0 0;\n",
              "      width: 32px;\n",
              "    }\n",
              "\n",
              "    .colab-df-convert:hover {\n",
              "      background-color: #E2EBFA;\n",
              "      box-shadow: 0px 1px 2px rgba(60, 64, 67, 0.3), 0px 1px 3px 1px rgba(60, 64, 67, 0.15);\n",
              "      fill: #174EA6;\n",
              "    }\n",
              "\n",
              "    [theme=dark] .colab-df-convert {\n",
              "      background-color: #3B4455;\n",
              "      fill: #D2E3FC;\n",
              "    }\n",
              "\n",
              "    [theme=dark] .colab-df-convert:hover {\n",
              "      background-color: #434B5C;\n",
              "      box-shadow: 0px 1px 3px 1px rgba(0, 0, 0, 0.15);\n",
              "      filter: drop-shadow(0px 1px 2px rgba(0, 0, 0, 0.3));\n",
              "      fill: #FFFFFF;\n",
              "    }\n",
              "  </style>\n",
              "\n",
              "      <script>\n",
              "        const buttonEl =\n",
              "          document.querySelector('#df-0fa6f5f9-6ae4-461a-aebd-1fc105bf433a button.colab-df-convert');\n",
              "        buttonEl.style.display =\n",
              "          google.colab.kernel.accessAllowed ? 'block' : 'none';\n",
              "\n",
              "        async function convertToInteractive(key) {\n",
              "          const element = document.querySelector('#df-0fa6f5f9-6ae4-461a-aebd-1fc105bf433a');\n",
              "          const dataTable =\n",
              "            await google.colab.kernel.invokeFunction('convertToInteractive',\n",
              "                                                     [key], {});\n",
              "          if (!dataTable) return;\n",
              "\n",
              "          const docLinkHtml = 'Like what you see? Visit the ' +\n",
              "            '<a target=\"_blank\" href=https://colab.research.google.com/notebooks/data_table.ipynb>data table notebook</a>'\n",
              "            + ' to learn more about interactive tables.';\n",
              "          element.innerHTML = '';\n",
              "          dataTable['output_type'] = 'display_data';\n",
              "          await google.colab.output.renderOutput(dataTable, element);\n",
              "          const docLink = document.createElement('div');\n",
              "          docLink.innerHTML = docLinkHtml;\n",
              "          element.appendChild(docLink);\n",
              "        }\n",
              "      </script>\n",
              "    </div>\n",
              "  </div>\n",
              "  "
            ]
          },
          "metadata": {},
          "execution_count": 8
        }
      ],
      "source": [
        "data"
      ]
    },
    {
      "cell_type": "code",
      "execution_count": null,
      "metadata": {
        "id": "oQAvTThaOqxR"
      },
      "outputs": [],
      "source": [
        "class_dist=data.groupby('Cover_Type').size()\n",
        "class_label=pd.DataFrame(class_dist,columns=['Count'])\n",
        "plt.figure(figsize=(8,6))\n",
        "sns.barplot(x=class_label.index,y='Count',data=class_label)"
      ]
    },
    {
      "cell_type": "code",
      "execution_count": null,
      "metadata": {
        "id": "472WjxnNdUFZ"
      },
      "outputs": [],
      "source": [
        "cont_data=data.loc[:, :'Horizontal_Distance_To_Fire_Points']\n",
        "\n",
        "binary_data=data.loc[:,'Wilderness':'Soil_Type']\n"
      ]
    },
    {
      "cell_type": "code",
      "execution_count": null,
      "metadata": {
        "id": "zLDH1Nq1_kmc"
      },
      "outputs": [],
      "source": [
        "Cover_Types=data['Cover_Type'].astype('category') \n",
        "\n",
        "for i, col in enumerate(cont_data.columns):\n",
        "    plt.figure(i,figsize=(8,4))\n",
        "    sns.boxplot(x=Cover_Types, y=col, data=data, palette=\"coolwarm\")"
      ]
    },
    {
      "cell_type": "code",
      "source": [
        "for i, col in enumerate(binary_data.columns):\n",
        "    plt.figure(i,figsize=(12,3))\n",
        "    sns.countplot(x=col, hue=data['Cover_Type'] ,data=data, palette=\"rainbow\")"
      ],
      "metadata": {
        "id": "GMs3orqGZINe"
      },
      "execution_count": null,
      "outputs": []
    },
    {
      "cell_type": "code",
      "source": [
        "for i, col in enumerate(data.loc[:, :\"Horizontal_Distance_To_Fire_Points\"]):\n",
        "  plt.figure(i)\n",
        "  plt.title(col)\n",
        "  sns.boxplot(data[col])"
      ],
      "metadata": {
        "id": "EJBLWGAmz9EX"
      },
      "execution_count": null,
      "outputs": []
    },
    {
      "cell_type": "code",
      "source": [
        "n = (data.loc[len(data)/2, 1] + (data.loc[len(data)/2, 1]+1))/2\n",
        "n\n",
        "\n",
        "q1=data.loc[(n+1)/4, 1]\n",
        "q3=data.loc[3(n+1)/4, 1]\n",
        "\n",
        "iqr=q3-q1\n",
        "iqr"
      ],
      "metadata": {
        "id": "wg5aX1xl4vpw"
      },
      "execution_count": null,
      "outputs": []
    },
    {
      "cell_type": "code",
      "execution_count": null,
      "metadata": {
        "id": "Xbnz4RSpMe4P"
      },
      "outputs": [],
      "source": [
        "X=data.loc[:,'Elevation':'Soil_Type']\n",
        "y=data['Cover_Type']"
      ]
    },
    {
      "cell_type": "code",
      "execution_count": null,
      "metadata": {
        "id": "_nFVASMhAgX1"
      },
      "outputs": [],
      "source": [
        "X, X30, y, y30 = train_test_split(X,y, test_size=0.3, random_state=101)"
      ]
    },
    {
      "cell_type": "code",
      "execution_count": null,
      "metadata": {
        "id": "6vs4wO-lMe4P"
      },
      "outputs": [],
      "source": [
        "X_train, X_test, y_train, y_test = train_test_split(X,y, test_size=0.3, random_state=101)"
      ]
    },
    {
      "cell_type": "code",
      "execution_count": null,
      "metadata": {
        "id": "_hBMVF79Me4P",
        "colab": {
          "base_uri": "https://localhost:8080/"
        },
        "outputId": "5025cf67-142d-4630-cd0c-c35d2db08e4a"
      },
      "outputs": [
        {
          "output_type": "execute_result",
          "data": {
            "text/plain": [
              "[0.9558981420012621,\n",
              " 0.9480629113291207,\n",
              " 0.955357216034357,\n",
              " 0.9488579085835116,\n",
              " 0.9510707875390327,\n",
              " 0.945579569390147,\n",
              " 0.9453910648865285]"
            ]
          },
          "metadata": {},
          "execution_count": 15
        }
      ],
      "source": [
        "neighbors = np.arange(1,8)\n",
        "accuracies = []\n",
        "\n",
        "for i,k in enumerate(neighbors):\n",
        "    knn = KNeighborsClassifier(n_neighbors=k)\n",
        "    \n",
        "    knn.fit(X_train, y_train)\n",
        "\n",
        "    pred = knn.predict(X_test)\n",
        "    accuracies.append(accuracy_score(pred , y_test))    \n",
        "\n",
        "accuracies"
      ]
    },
    {
      "cell_type": "code",
      "execution_count": null,
      "metadata": {
        "id": "Lg2B_1efb9sh",
        "colab": {
          "base_uri": "https://localhost:8080/",
          "height": 235
        },
        "outputId": "bd0b62d0-28bd-4e88-8ef4-ab702beacda0"
      },
      "outputs": [
        {
          "output_type": "execute_result",
          "data": {
            "text/plain": [
              "Text(0, 0.5, 'Accuracy')"
            ]
          },
          "metadata": {},
          "execution_count": 16
        },
        {
          "output_type": "display_data",
          "data": {
            "text/plain": [
              "<Figure size 640x480 with 1 Axes>"
            ],
            "image/png": "[encoded data removed]"
          },
          "metadata": {}
        }
      ],
      "source": [
        "sns.lineplot(x=neighbors, y=accuracies, marker=\"o\")\n",
        "plt.xlabel('Number of neighbors')\n",
        "plt.ylabel('Accuracy')"
      ]
    },
    {
      "cell_type": "code",
      "execution_count": null,
      "metadata": {
        "id": "5SQDF3-Z-9GN",
        "colab": {
          "base_uri": "https://localhost:8080/"
        },
        "outputId": "d4915f8b-e185-4352-8753-7f9171673ce7"
      },
      "outputs": [
        {
          "output_type": "execute_result",
          "data": {
            "text/plain": [
              "[0.926010798470489,\n",
              " 0.9137145084946111,\n",
              " 0.9219882592317866,\n",
              " 0.9152192735599334,\n",
              " 0.9166281468713446,\n",
              " 0.9122540017036371]"
            ]
          },
          "metadata": {},
          "execution_count": 14
        }
      ],
      "source": [
        "k_values = [i for i in range(1, 7)]\n",
        "scores = []\n",
        "\n",
        "scaler = StandardScaler()\n",
        "X = scaler.fit_transform(X)\n",
        "\n",
        "for k in k_values:\n",
        "    knn = KNeighborsClassifier(n_neighbors=k)\n",
        "    score = cross_val_score(knn, X, y, cv=5)\n",
        "    scores.append(np.mean(score))\n",
        "\n",
        "scores"
      ]
    },
    {
      "cell_type": "code",
      "execution_count": null,
      "metadata": {
        "id": "17e96O5X_B2J",
        "colab": {
          "base_uri": "https://localhost:8080/",
          "height": 466
        },
        "outputId": "eecf3726-3eac-4043-ff9d-1ec7df0ad9c1"
      },
      "outputs": [
        {
          "output_type": "execute_result",
          "data": {
            "text/plain": [
              "Text(0, 0.5, 'Accuracy Score')"
            ]
          },
          "metadata": {},
          "execution_count": 15
        },
        {
          "output_type": "display_data",
          "data": {
            "text/plain": [
              "<Figure size 640x480 with 1 Axes>"
            ],
            "image/png": "[encoded data removed]"
          },
          "metadata": {}
        }
      ],
      "source": [
        "sns.lineplot(x = k_values, y = scores, marker = 'o')\n",
        "plt.xlabel(\"K Values\")\n",
        "plt.ylabel(\"Accuracy Score\")"
      ]
    },
    {
      "cell_type": "code",
      "execution_count": null,
      "metadata": {
        "id": "D8LYV_ZqDQjC",
        "colab": {
          "base_uri": "https://localhost:8080/"
        },
        "outputId": "d81780c1-a1a3-4388-8c77-0c11f3adffd8"
      },
      "outputs": [
        {
          "output_type": "stream",
          "name": "stdout",
          "text": [
            "Accuracy: 0.9553882871305306 \n",
            "\n",
            "Confusion Matrix:\n",
            " [[60548  2559     4     0    40     8   240]\n",
            " [ 2498 81824   188     2   301   145    35]\n",
            " [    1   153 10344    85    29   210     0]\n",
            " [    0     1   110   664     0    54     0]\n",
            " [   46   324    24     0  2466    10     0]\n",
            " [    6   150   241    37     6  4809     0]\n",
            " [  238    31     0     0     0     0  5873]]\n",
            "Classification Report: \n",
            "               precision    recall  f1-score   support\n",
            "\n",
            "           1       0.96      0.96      0.96     63399\n",
            "           2       0.96      0.96      0.96     84993\n",
            "           3       0.95      0.96      0.95     10822\n",
            "           4       0.84      0.80      0.82       829\n",
            "           5       0.87      0.86      0.86      2870\n",
            "           6       0.92      0.92      0.92      5249\n",
            "           7       0.96      0.96      0.96      6142\n",
            "\n",
            "    accuracy                           0.96    174304\n",
            "   macro avg       0.92      0.92      0.92    174304\n",
            "weighted avg       0.96      0.96      0.96    174304\n",
            "\n"
          ]
        }
      ],
      "source": [
        "knn = KNeighborsClassifier(n_neighbors=1)\n",
        "knn.fit(X_train,y_train)\n",
        "\n",
        "y_pred=knn.predict(X30)\n",
        "\n",
        "Accuracy = accuracy_score(y30, y_pred)\n",
        "\n",
        "print(\"Accuracy:\", Accuracy, '\\n')\n",
        "print(\"Confusion Matrix:\\n\", confusion_matrix(y30, y_pred))\n",
        "print(\"Classification Report: \\n\", classification_report(y30, y_pred))"
      ]
    },
    {
      "cell_type": "code",
      "source": [
        "X30.insert(9,\"Cover_Type\",y30)\n",
        "X30.insert(10, \"Predicted_Cover_Type\", y_pred)"
      ],
      "metadata": {
        "id": "NmZ8uTxWECjO"
      },
      "execution_count": null,
      "outputs": []
    },
    {
      "cell_type": "code",
      "source": [
        "X30"
      ],
      "metadata": {
        "colab": {
          "base_uri": "https://localhost:8080/",
          "height": 488
        },
        "id": "Kb3zDfAeetlb",
        "outputId": "be8a9df1-9782-4200-b5bc-d9812350ada9"
      },
      "execution_count": null,
      "outputs": [
        {
          "output_type": "execute_result",
          "data": {
            "text/plain": [
              "        Elevation  Aspect  Slope  Distance_To_Hydrology  \\\n",
              "312529       3110     128     19                     85   \n",
              "347634       2632     119      2                    180   \n",
              "75200        3050      67     10                    335   \n",
              "116600       2810     119     23                     68   \n",
              "416318       3222     189     16                    349   \n",
              "...           ...     ...    ...                    ...   \n",
              "171267       3115     273     20                    190   \n",
              "102393       2883     149     12                    174   \n",
              "384899       3097     170     22                    994   \n",
              "124012       2757     175      5                     68   \n",
              "483623       3333     312     15                    783   \n",
              "\n",
              "        Horizontal_Distance_To_Roadways  Hillshade  \\\n",
              "312529                             3608        189   \n",
              "347634                             1008        203   \n",
              "75200                              5624        190   \n",
              "116600                             4369        180   \n",
              "416318                             3451        210   \n",
              "...                                 ...        ...   \n",
              "171267                             4636        206   \n",
              "102393                             3463        202   \n",
              "384899                             3211        202   \n",
              "124012                             1718        207   \n",
              "483623                             4382        199   \n",
              "\n",
              "        Horizontal_Distance_To_Fire_Points  Wilderness  Soil_Type  Cover_Type  \\\n",
              "312529                                2402           1         29           1   \n",
              "347634                                 730           3         17           5   \n",
              "75200                                 4938           1         29           1   \n",
              "116600                                 450           1         22           1   \n",
              "416318                                 800           3         32           1   \n",
              "...                                    ...         ...        ...         ...   \n",
              "171267                                3190           1         22           1   \n",
              "102393                                1731           1         12           2   \n",
              "384899                                1978           3         33           2   \n",
              "124012                                2184           1         12           2   \n",
              "483623                                2590           3         38           1   \n",
              "\n",
              "        Predicted_Cover_Type  \n",
              "312529                     1  \n",
              "347634                     5  \n",
              "75200                      1  \n",
              "116600                     1  \n",
              "416318                     1  \n",
              "...                      ...  \n",
              "171267                     1  \n",
              "102393                     2  \n",
              "384899                     2  \n",
              "124012                     2  \n",
              "483623                     1  \n",
              "\n",
              "[174304 rows x 11 columns]"
            ],
            "text/html": [
              "\n",
              "  <div id=\"df-2311531f-7efc-4b72-9064-06c2424101b5\">\n",
              "    <div class=\"colab-df-container\">\n",
              "      <div>\n",
              "<style scoped>\n",
              "    .dataframe tbody tr th:only-of-type {\n",
              "        vertical-align: middle;\n",
              "    }\n",
              "\n",
              "    .dataframe tbody tr th {\n",
              "        vertical-align: top;\n",
              "    }\n",
              "\n",
              "    .dataframe thead th {\n",
              "        text-align: right;\n",
              "    }\n",
              "</style>\n",
              "<table border=\"1\" class=\"dataframe\">\n",
              "  <thead>\n",
              "    <tr style=\"text-align: right;\">\n",
              "      <th></th>\n",
              "      <th>Elevation</th>\n",
              "      <th>Aspect</th>\n",
              "      <th>Slope</th>\n",
              "      <th>Distance_To_Hydrology</th>\n",
              "      <th>Horizontal_Distance_To_Roadways</th>\n",
              "      <th>Hillshade</th>\n",
              "      <th>Horizontal_Distance_To_Fire_Points</th>\n",
              "      <th>Wilderness</th>\n",
              "      <th>Soil_Type</th>\n",
              "      <th>Cover_Type</th>\n",
              "      <th>Predicted_Cover_Type</th>\n",
              "    </tr>\n",
              "  </thead>\n",
              "  <tbody>\n",
              "    <tr>\n",
              "      <th>312529</th>\n",
              "      <td>3110</td>\n",
              "      <td>128</td>\n",
              "      <td>19</td>\n",
              "      <td>85</td>\n",
              "      <td>3608</td>\n",
              "      <td>189</td>\n",
              "      <td>2402</td>\n",
              "      <td>1</td>\n",
              "      <td>29</td>\n",
              "      <td>1</td>\n",
              "      <td>1</td>\n",
              "    </tr>\n",
              "    <tr>\n",
              "      <th>347634</th>\n",
              "      <td>2632</td>\n",
              "      <td>119</td>\n",
              "      <td>2</td>\n",
              "      <td>180</td>\n",
              "      <td>1008</td>\n",
              "      <td>203</td>\n",
              "      <td>730</td>\n",
              "      <td>3</td>\n",
              "      <td>17</td>\n",
              "      <td>5</td>\n",
              "      <td>5</td>\n",
              "    </tr>\n",
              "    <tr>\n",
              "      <th>75200</th>\n",
              "      <td>3050</td>\n",
              "      <td>67</td>\n",
              "      <td>10</td>\n",
              "      <td>335</td>\n",
              "      <td>5624</td>\n",
              "      <td>190</td>\n",
              "      <td>4938</td>\n",
              "      <td>1</td>\n",
              "      <td>29</td>\n",
              "      <td>1</td>\n",
              "      <td>1</td>\n",
              "    </tr>\n",
              "    <tr>\n",
              "      <th>116600</th>\n",
              "      <td>2810</td>\n",
              "      <td>119</td>\n",
              "      <td>23</td>\n",
              "      <td>68</td>\n",
              "      <td>4369</td>\n",
              "      <td>180</td>\n",
              "      <td>450</td>\n",
              "      <td>1</td>\n",
              "      <td>22</td>\n",
              "      <td>1</td>\n",
              "      <td>1</td>\n",
              "    </tr>\n",
              "    <tr>\n",
              "      <th>416318</th>\n",
              "      <td>3222</td>\n",
              "      <td>189</td>\n",
              "      <td>16</td>\n",
              "      <td>349</td>\n",
              "      <td>3451</td>\n",
              "      <td>210</td>\n",
              "      <td>800</td>\n",
              "      <td>3</td>\n",
              "      <td>32</td>\n",
              "      <td>1</td>\n",
              "      <td>1</td>\n",
              "    </tr>\n",
              "    <tr>\n",
              "      <th>...</th>\n",
              "      <td>...</td>\n",
              "      <td>...</td>\n",
              "      <td>...</td>\n",
              "      <td>...</td>\n",
              "      <td>...</td>\n",
              "      <td>...</td>\n",
              "      <td>...</td>\n",
              "      <td>...</td>\n",
              "      <td>...</td>\n",
              "      <td>...</td>\n",
              "      <td>...</td>\n",
              "    </tr>\n",
              "    <tr>\n",
              "      <th>171267</th>\n",
              "      <td>3115</td>\n",
              "      <td>273</td>\n",
              "      <td>20</td>\n",
              "      <td>190</td>\n",
              "      <td>4636</td>\n",
              "      <td>206</td>\n",
              "      <td>3190</td>\n",
              "      <td>1</td>\n",
              "      <td>22</td>\n",
              "      <td>1</td>\n",
              "      <td>1</td>\n",
              "    </tr>\n",
              "    <tr>\n",
              "      <th>102393</th>\n",
              "      <td>2883</td>\n",
              "      <td>149</td>\n",
              "      <td>12</td>\n",
              "      <td>174</td>\n",
              "      <td>3463</td>\n",
              "      <td>202</td>\n",
              "      <td>1731</td>\n",
              "      <td>1</td>\n",
              "      <td>12</td>\n",
              "      <td>2</td>\n",
              "      <td>2</td>\n",
              "    </tr>\n",
              "    <tr>\n",
              "      <th>384899</th>\n",
              "      <td>3097</td>\n",
              "      <td>170</td>\n",
              "      <td>22</td>\n",
              "      <td>994</td>\n",
              "      <td>3211</td>\n",
              "      <td>202</td>\n",
              "      <td>1978</td>\n",
              "      <td>3</td>\n",
              "      <td>33</td>\n",
              "      <td>2</td>\n",
              "      <td>2</td>\n",
              "    </tr>\n",
              "    <tr>\n",
              "      <th>124012</th>\n",
              "      <td>2757</td>\n",
              "      <td>175</td>\n",
              "      <td>5</td>\n",
              "      <td>68</td>\n",
              "      <td>1718</td>\n",
              "      <td>207</td>\n",
              "      <td>2184</td>\n",
              "      <td>1</td>\n",
              "      <td>12</td>\n",
              "      <td>2</td>\n",
              "      <td>2</td>\n",
              "    </tr>\n",
              "    <tr>\n",
              "      <th>483623</th>\n",
              "      <td>3333</td>\n",
              "      <td>312</td>\n",
              "      <td>15</td>\n",
              "      <td>783</td>\n",
              "      <td>4382</td>\n",
              "      <td>199</td>\n",
              "      <td>2590</td>\n",
              "      <td>3</td>\n",
              "      <td>38</td>\n",
              "      <td>1</td>\n",
              "      <td>1</td>\n",
              "    </tr>\n",
              "  </tbody>\n",
              "</table>\n",
              "<p>174304 rows × 11 columns</p>\n",
              "</div>\n",
              "      <button class=\"colab-df-convert\" onclick=\"convertToInteractive('df-2311531f-7efc-4b72-9064-06c2424101b5')\"\n",
              "              title=\"Convert this dataframe to an interactive table.\"\n",
              "              style=\"display:none;\">\n",
              "        \n",
              "  <svg xmlns=\"http://www.w3.org/2000/svg\" height=\"24px\"viewBox=\"0 0 24 24\"\n",
              "       width=\"24px\">\n",
              "    <path d=\"M0 0h24v24H0V0z\" fill=\"none\"/>\n",
              "    <path d=\"M18.56 5.44l.94 2.06.94-2.06 2.06-.94-2.06-.94-.94-2.06-.94 2.06-2.06.94zm-11 1L8.5 8.5l.94-2.06 2.06-.94-2.06-.94L8.5 2.5l-.94 2.06-2.06.94zm10 10l.94 2.06.94-2.06 2.06-.94-2.06-.94-.94-2.06-.94 2.06-2.06.94z\"/><path d=\"M17.41 7.96l-1.37-1.37c-.4-.4-.92-.59-1.43-.59-.52 0-1.04.2-1.43.59L10.3 9.45l-7.72 7.72c-.78.78-.78 2.05 0 2.83L4 21.41c.39.39.9.59 1.41.59.51 0 1.02-.2 1.41-.59l7.78-7.78 2.81-2.81c.8-.78.8-2.07 0-2.86zM5.41 20L4 18.59l7.72-7.72 1.47 1.35L5.41 20z\"/>\n",
              "  </svg>\n",
              "      </button>\n",
              "      \n",
              "  <style>\n",
              "    .colab-df-container {\n",
              "      display:flex;\n",
              "      flex-wrap:wrap;\n",
              "      gap: 12px;\n",
              "    }\n",
              "\n",
              "    .colab-df-convert {\n",
              "      background-color: #E8F0FE;\n",
              "      border: none;\n",
              "      border-radius: 50%;\n",
              "      cursor: pointer;\n",
              "      display: none;\n",
              "      fill: #1967D2;\n",
              "      height: 32px;\n",
              "      padding: 0 0 0 0;\n",
              "      width: 32px;\n",
              "    }\n",
              "\n",
              "    .colab-df-convert:hover {\n",
              "      background-color: #E2EBFA;\n",
              "      box-shadow: 0px 1px 2px rgba(60, 64, 67, 0.3), 0px 1px 3px 1px rgba(60, 64, 67, 0.15);\n",
              "      fill: #174EA6;\n",
              "    }\n",
              "\n",
              "    [theme=dark] .colab-df-convert {\n",
              "      background-color: #3B4455;\n",
              "      fill: #D2E3FC;\n",
              "    }\n",
              "\n",
              "    [theme=dark] .colab-df-convert:hover {\n",
              "      background-color: #434B5C;\n",
              "      box-shadow: 0px 1px 3px 1px rgba(0, 0, 0, 0.15);\n",
              "      filter: drop-shadow(0px 1px 2px rgba(0, 0, 0, 0.3));\n",
              "      fill: #FFFFFF;\n",
              "    }\n",
              "  </style>\n",
              "\n",
              "      <script>\n",
              "        const buttonEl =\n",
              "          document.querySelector('#df-2311531f-7efc-4b72-9064-06c2424101b5 button.colab-df-convert');\n",
              "        buttonEl.style.display =\n",
              "          google.colab.kernel.accessAllowed ? 'block' : 'none';\n",
              "\n",
              "        async function convertToInteractive(key) {\n",
              "          const element = document.querySelector('#df-2311531f-7efc-4b72-9064-06c2424101b5');\n",
              "          const dataTable =\n",
              "            await google.colab.kernel.invokeFunction('convertToInteractive',\n",
              "                                                     [key], {});\n",
              "          if (!dataTable) return;\n",
              "\n",
              "          const docLinkHtml = 'Like what you see? Visit the ' +\n",
              "            '<a target=\"_blank\" href=https://colab.research.google.com/notebooks/data_table.ipynb>data table notebook</a>'\n",
              "            + ' to learn more about interactive tables.';\n",
              "          element.innerHTML = '';\n",
              "          dataTable['output_type'] = 'display_data';\n",
              "          await google.colab.output.renderOutput(dataTable, element);\n",
              "          const docLink = document.createElement('div');\n",
              "          docLink.innerHTML = docLinkHtml;\n",
              "          element.appendChild(docLink);\n",
              "        }\n",
              "      </script>\n",
              "    </div>\n",
              "  </div>\n",
              "  "
            ]
          },
          "metadata": {},
          "execution_count": 18
        }
      ]
    },
    {
      "cell_type": "code",
      "source": [
        "wrong_pred=pd.DataFrame(X30[X30['Cover_Type']!=X30['Predicted_Cover_Type']])\n",
        "\n",
        "wrong_pred.reset_index(inplace=True, drop=True)\n",
        "wrong_pred"
      ],
      "metadata": {
        "colab": {
          "base_uri": "https://localhost:8080/",
          "height": 488
        },
        "id": "XSKM6lWck41X",
        "outputId": "18c041c8-8d5d-4db3-98e4-78a08f7a0590"
      },
      "execution_count": null,
      "outputs": [
        {
          "output_type": "execute_result",
          "data": {
            "text/plain": [
              "      Elevation  Aspect  Slope  Distance_To_Hydrology  \\\n",
              "0          3306     153     20                    666   \n",
              "1          2980       2      6                    184   \n",
              "2          2841     181     19                     60   \n",
              "3          2388     231      9                      0   \n",
              "4          2888      54      8                    540   \n",
              "...         ...     ...    ...                    ...   \n",
              "7771       2778      40     15                    123   \n",
              "7772       3068     225     10                     30   \n",
              "7773       3153      21      8                    202   \n",
              "7774       3092     286      4                    426   \n",
              "7775       2636       5     22                    135   \n",
              "\n",
              "      Horizontal_Distance_To_Roadways  Hillshade  \\\n",
              "0                                 573        197   \n",
              "1                                1359        198   \n",
              "2                                1101        207   \n",
              "3                                 603        212   \n",
              "4                                1789        192   \n",
              "...                               ...        ...   \n",
              "7771                             1935        181   \n",
              "7772                             2184        212   \n",
              "7773                             1595        194   \n",
              "7774                             2497        206   \n",
              "7775                             1180        170   \n",
              "\n",
              "      Horizontal_Distance_To_Fire_Points  Wilderness  Soil_Type  Cover_Type  \\\n",
              "0                                   4424           2         25           2   \n",
              "1                                    589           3         23           2   \n",
              "2                                   2331           3         33           5   \n",
              "3                                   1087           3         14           6   \n",
              "4                                   2932           3         23           1   \n",
              "...                                  ...         ...        ...         ...   \n",
              "7771                                2226           1         12           1   \n",
              "7772                                 201           3         31           2   \n",
              "7773                                 994           2         24           1   \n",
              "7774                                2108           3         32           2   \n",
              "7775                                6457           1         29           1   \n",
              "\n",
              "      Predicted_Cover_Type  \n",
              "0                        1  \n",
              "1                        1  \n",
              "2                        2  \n",
              "3                        3  \n",
              "4                        2  \n",
              "...                    ...  \n",
              "7771                     2  \n",
              "7772                     1  \n",
              "7773                     2  \n",
              "7774                     1  \n",
              "7775                     2  \n",
              "\n",
              "[7776 rows x 11 columns]"
            ],
            "text/html": [
              "\n",
              "  <div id=\"df-dde3df0f-d7fe-4efb-8f2e-a8c211c6f032\">\n",
              "    <div class=\"colab-df-container\">\n",
              "      <div>\n",
              "<style scoped>\n",
              "    .dataframe tbody tr th:only-of-type {\n",
              "        vertical-align: middle;\n",
              "    }\n",
              "\n",
              "    .dataframe tbody tr th {\n",
              "        vertical-align: top;\n",
              "    }\n",
              "\n",
              "    .dataframe thead th {\n",
              "        text-align: right;\n",
              "    }\n",
              "</style>\n",
              "<table border=\"1\" class=\"dataframe\">\n",
              "  <thead>\n",
              "    <tr style=\"text-align: right;\">\n",
              "      <th></th>\n",
              "      <th>Elevation</th>\n",
              "      <th>Aspect</th>\n",
              "      <th>Slope</th>\n",
              "      <th>Distance_To_Hydrology</th>\n",
              "      <th>Horizontal_Distance_To_Roadways</th>\n",
              "      <th>Hillshade</th>\n",
              "      <th>Horizontal_Distance_To_Fire_Points</th>\n",
              "      <th>Wilderness</th>\n",
              "      <th>Soil_Type</th>\n",
              "      <th>Cover_Type</th>\n",
              "      <th>Predicted_Cover_Type</th>\n",
              "    </tr>\n",
              "  </thead>\n",
              "  <tbody>\n",
              "    <tr>\n",
              "      <th>0</th>\n",
              "      <td>3306</td>\n",
              "      <td>153</td>\n",
              "      <td>20</td>\n",
              "      <td>666</td>\n",
              "      <td>573</td>\n",
              "      <td>197</td>\n",
              "      <td>4424</td>\n",
              "      <td>2</td>\n",
              "      <td>25</td>\n",
              "      <td>2</td>\n",
              "      <td>1</td>\n",
              "    </tr>\n",
              "    <tr>\n",
              "      <th>1</th>\n",
              "      <td>2980</td>\n",
              "      <td>2</td>\n",
              "      <td>6</td>\n",
              "      <td>184</td>\n",
              "      <td>1359</td>\n",
              "      <td>198</td>\n",
              "      <td>589</td>\n",
              "      <td>3</td>\n",
              "      <td>23</td>\n",
              "      <td>2</td>\n",
              "      <td>1</td>\n",
              "    </tr>\n",
              "    <tr>\n",
              "      <th>2</th>\n",
              "      <td>2841</td>\n",
              "      <td>181</td>\n",
              "      <td>19</td>\n",
              "      <td>60</td>\n",
              "      <td>1101</td>\n",
              "      <td>207</td>\n",
              "      <td>2331</td>\n",
              "      <td>3</td>\n",
              "      <td>33</td>\n",
              "      <td>5</td>\n",
              "      <td>2</td>\n",
              "    </tr>\n",
              "    <tr>\n",
              "      <th>3</th>\n",
              "      <td>2388</td>\n",
              "      <td>231</td>\n",
              "      <td>9</td>\n",
              "      <td>0</td>\n",
              "      <td>603</td>\n",
              "      <td>212</td>\n",
              "      <td>1087</td>\n",
              "      <td>3</td>\n",
              "      <td>14</td>\n",
              "      <td>6</td>\n",
              "      <td>3</td>\n",
              "    </tr>\n",
              "    <tr>\n",
              "      <th>4</th>\n",
              "      <td>2888</td>\n",
              "      <td>54</td>\n",
              "      <td>8</td>\n",
              "      <td>540</td>\n",
              "      <td>1789</td>\n",
              "      <td>192</td>\n",
              "      <td>2932</td>\n",
              "      <td>3</td>\n",
              "      <td>23</td>\n",
              "      <td>1</td>\n",
              "      <td>2</td>\n",
              "    </tr>\n",
              "    <tr>\n",
              "      <th>...</th>\n",
              "      <td>...</td>\n",
              "      <td>...</td>\n",
              "      <td>...</td>\n",
              "      <td>...</td>\n",
              "      <td>...</td>\n",
              "      <td>...</td>\n",
              "      <td>...</td>\n",
              "      <td>...</td>\n",
              "      <td>...</td>\n",
              "      <td>...</td>\n",
              "      <td>...</td>\n",
              "    </tr>\n",
              "    <tr>\n",
              "      <th>7771</th>\n",
              "      <td>2778</td>\n",
              "      <td>40</td>\n",
              "      <td>15</td>\n",
              "      <td>123</td>\n",
              "      <td>1935</td>\n",
              "      <td>181</td>\n",
              "      <td>2226</td>\n",
              "      <td>1</td>\n",
              "      <td>12</td>\n",
              "      <td>1</td>\n",
              "      <td>2</td>\n",
              "    </tr>\n",
              "    <tr>\n",
              "      <th>7772</th>\n",
              "      <td>3068</td>\n",
              "      <td>225</td>\n",
              "      <td>10</td>\n",
              "      <td>30</td>\n",
              "      <td>2184</td>\n",
              "      <td>212</td>\n",
              "      <td>201</td>\n",
              "      <td>3</td>\n",
              "      <td>31</td>\n",
              "      <td>2</td>\n",
              "      <td>1</td>\n",
              "    </tr>\n",
              "    <tr>\n",
              "      <th>7773</th>\n",
              "      <td>3153</td>\n",
              "      <td>21</td>\n",
              "      <td>8</td>\n",
              "      <td>202</td>\n",
              "      <td>1595</td>\n",
              "      <td>194</td>\n",
              "      <td>994</td>\n",
              "      <td>2</td>\n",
              "      <td>24</td>\n",
              "      <td>1</td>\n",
              "      <td>2</td>\n",
              "    </tr>\n",
              "    <tr>\n",
              "      <th>7774</th>\n",
              "      <td>3092</td>\n",
              "      <td>286</td>\n",
              "      <td>4</td>\n",
              "      <td>426</td>\n",
              "      <td>2497</td>\n",
              "      <td>206</td>\n",
              "      <td>2108</td>\n",
              "      <td>3</td>\n",
              "      <td>32</td>\n",
              "      <td>2</td>\n",
              "      <td>1</td>\n",
              "    </tr>\n",
              "    <tr>\n",
              "      <th>7775</th>\n",
              "      <td>2636</td>\n",
              "      <td>5</td>\n",
              "      <td>22</td>\n",
              "      <td>135</td>\n",
              "      <td>1180</td>\n",
              "      <td>170</td>\n",
              "      <td>6457</td>\n",
              "      <td>1</td>\n",
              "      <td>29</td>\n",
              "      <td>1</td>\n",
              "      <td>2</td>\n",
              "    </tr>\n",
              "  </tbody>\n",
              "</table>\n",
              "<p>7776 rows × 11 columns</p>\n",
              "</div>\n",
              "      <button class=\"colab-df-convert\" onclick=\"convertToInteractive('df-dde3df0f-d7fe-4efb-8f2e-a8c211c6f032')\"\n",
              "              title=\"Convert this dataframe to an interactive table.\"\n",
              "              style=\"display:none;\">\n",
              "        \n",
              "  <svg xmlns=\"http://www.w3.org/2000/svg\" height=\"24px\"viewBox=\"0 0 24 24\"\n",
              "       width=\"24px\">\n",
              "    <path d=\"M0 0h24v24H0V0z\" fill=\"none\"/>\n",
              "    <path d=\"M18.56 5.44l.94 2.06.94-2.06 2.06-.94-2.06-.94-.94-2.06-.94 2.06-2.06.94zm-11 1L8.5 8.5l.94-2.06 2.06-.94-2.06-.94L8.5 2.5l-.94 2.06-2.06.94zm10 10l.94 2.06.94-2.06 2.06-.94-2.06-.94-.94-2.06-.94 2.06-2.06.94z\"/><path d=\"M17.41 7.96l-1.37-1.37c-.4-.4-.92-.59-1.43-.59-.52 0-1.04.2-1.43.59L10.3 9.45l-7.72 7.72c-.78.78-.78 2.05 0 2.83L4 21.41c.39.39.9.59 1.41.59.51 0 1.02-.2 1.41-.59l7.78-7.78 2.81-2.81c.8-.78.8-2.07 0-2.86zM5.41 20L4 18.59l7.72-7.72 1.47 1.35L5.41 20z\"/>\n",
              "  </svg>\n",
              "      </button>\n",
              "      \n",
              "  <style>\n",
              "    .colab-df-container {\n",
              "      display:flex;\n",
              "      flex-wrap:wrap;\n",
              "      gap: 12px;\n",
              "    }\n",
              "\n",
              "    .colab-df-convert {\n",
              "      background-color: #E8F0FE;\n",
              "      border: none;\n",
              "      border-radius: 50%;\n",
              "      cursor: pointer;\n",
              "      display: none;\n",
              "      fill: #1967D2;\n",
              "      height: 32px;\n",
              "      padding: 0 0 0 0;\n",
              "      width: 32px;\n",
              "    }\n",
              "\n",
              "    .colab-df-convert:hover {\n",
              "      background-color: #E2EBFA;\n",
              "      box-shadow: 0px 1px 2px rgba(60, 64, 67, 0.3), 0px 1px 3px 1px rgba(60, 64, 67, 0.15);\n",
              "      fill: #174EA6;\n",
              "    }\n",
              "\n",
              "    [theme=dark] .colab-df-convert {\n",
              "      background-color: #3B4455;\n",
              "      fill: #D2E3FC;\n",
              "    }\n",
              "\n",
              "    [theme=dark] .colab-df-convert:hover {\n",
              "      background-color: #434B5C;\n",
              "      box-shadow: 0px 1px 3px 1px rgba(0, 0, 0, 0.15);\n",
              "      filter: drop-shadow(0px 1px 2px rgba(0, 0, 0, 0.3));\n",
              "      fill: #FFFFFF;\n",
              "    }\n",
              "  </style>\n",
              "\n",
              "      <script>\n",
              "        const buttonEl =\n",
              "          document.querySelector('#df-dde3df0f-d7fe-4efb-8f2e-a8c211c6f032 button.colab-df-convert');\n",
              "        buttonEl.style.display =\n",
              "          google.colab.kernel.accessAllowed ? 'block' : 'none';\n",
              "\n",
              "        async function convertToInteractive(key) {\n",
              "          const element = document.querySelector('#df-dde3df0f-d7fe-4efb-8f2e-a8c211c6f032');\n",
              "          const dataTable =\n",
              "            await google.colab.kernel.invokeFunction('convertToInteractive',\n",
              "                                                     [key], {});\n",
              "          if (!dataTable) return;\n",
              "\n",
              "          const docLinkHtml = 'Like what you see? Visit the ' +\n",
              "            '<a target=\"_blank\" href=https://colab.research.google.com/notebooks/data_table.ipynb>data table notebook</a>'\n",
              "            + ' to learn more about interactive tables.';\n",
              "          element.innerHTML = '';\n",
              "          dataTable['output_type'] = 'display_data';\n",
              "          await google.colab.output.renderOutput(dataTable, element);\n",
              "          const docLink = document.createElement('div');\n",
              "          docLink.innerHTML = docLinkHtml;\n",
              "          element.appendChild(docLink);\n",
              "        }\n",
              "      </script>\n",
              "    </div>\n",
              "  </div>\n",
              "  "
            ]
          },
          "metadata": {},
          "execution_count": 62
        }
      ]
    },
    {
      "cell_type": "code",
      "source": [
        "ct = pd.DataFrame({\"Cover_Type\": [1, 2, 3, 4, 5, 6, 7], \"Actual\": X30.groupby('Cover_Type').size(), \"Predicted\": X30.groupby('Predicted_Cover_Type').size()})\n",
        "ct.plot.bar(x='Cover_Type', y=[\"Actual\", \"Predicted\"], rot=0)"
      ],
      "metadata": {
        "colab": {
          "base_uri": "https://localhost:8080/",
          "height": 466
        },
        "id": "AlChM_Zd3U1I",
        "outputId": "476379fb-9834-43ef-ea8f-de76cd853d83"
      },
      "execution_count": null,
      "outputs": [
        {
          "output_type": "execute_result",
          "data": {
            "text/plain": [
              "<Axes: xlabel='Cover_Type'>"
            ]
          },
          "metadata": {},
          "execution_count": 120
        },
        {
          "output_type": "display_data",
          "data": {
            "text/plain": [
              "<Figure size 640x480 with 1 Axes>"
            ],
            "image/png": "[encoded data removed]"
          },
          "metadata": {}
        }
      ]
    },
    {
      "cell_type": "code",
      "source": [
        "ct"
      ],
      "metadata": {
        "colab": {
          "base_uri": "https://localhost:8080/",
          "height": 269
        },
        "id": "4lKu8sA47Ulp",
        "outputId": "a3327bd0-972c-4165-8b38-78be49634413"
      },
      "execution_count": null,
      "outputs": [
        {
          "output_type": "execute_result",
          "data": {
            "text/plain": [
              "   Cover_Type  Actual  Predicted\n",
              "1           1   63399      63337\n",
              "2           2   84993      85042\n",
              "3           3   10822      10911\n",
              "4           4     829        788\n",
              "5           5    2870       2842\n",
              "6           6    5249       5236\n",
              "7           7    6142       6148"
            ],
            "text/html": [
              "\n",
              "  <div id=\"df-da469233-b5ca-4b9f-ba36-88d64d7337e3\">\n",
              "    <div class=\"colab-df-container\">\n",
              "      <div>\n",
              "<style scoped>\n",
              "    .dataframe tbody tr th:only-of-type {\n",
              "        vertical-align: middle;\n",
              "    }\n",
              "\n",
              "    .dataframe tbody tr th {\n",
              "        vertical-align: top;\n",
              "    }\n",
              "\n",
              "    .dataframe thead th {\n",
              "        text-align: right;\n",
              "    }\n",
              "</style>\n",
              "<table border=\"1\" class=\"dataframe\">\n",
              "  <thead>\n",
              "    <tr style=\"text-align: right;\">\n",
              "      <th></th>\n",
              "      <th>Cover_Type</th>\n",
              "      <th>Actual</th>\n",
              "      <th>Predicted</th>\n",
              "    </tr>\n",
              "  </thead>\n",
              "  <tbody>\n",
              "    <tr>\n",
              "      <th>1</th>\n",
              "      <td>1</td>\n",
              "      <td>63399</td>\n",
              "      <td>63337</td>\n",
              "    </tr>\n",
              "    <tr>\n",
              "      <th>2</th>\n",
              "      <td>2</td>\n",
              "      <td>84993</td>\n",
              "      <td>85042</td>\n",
              "    </tr>\n",
              "    <tr>\n",
              "      <th>3</th>\n",
              "      <td>3</td>\n",
              "      <td>10822</td>\n",
              "      <td>10911</td>\n",
              "    </tr>\n",
              "    <tr>\n",
              "      <th>4</th>\n",
              "      <td>4</td>\n",
              "      <td>829</td>\n",
              "      <td>788</td>\n",
              "    </tr>\n",
              "    <tr>\n",
              "      <th>5</th>\n",
              "      <td>5</td>\n",
              "      <td>2870</td>\n",
              "      <td>2842</td>\n",
              "    </tr>\n",
              "    <tr>\n",
              "      <th>6</th>\n",
              "      <td>6</td>\n",
              "      <td>5249</td>\n",
              "      <td>5236</td>\n",
              "    </tr>\n",
              "    <tr>\n",
              "      <th>7</th>\n",
              "      <td>7</td>\n",
              "      <td>6142</td>\n",
              "      <td>6148</td>\n",
              "    </tr>\n",
              "  </tbody>\n",
              "</table>\n",
              "</div>\n",
              "      <button class=\"colab-df-convert\" onclick=\"convertToInteractive('df-da469233-b5ca-4b9f-ba36-88d64d7337e3')\"\n",
              "              title=\"Convert this dataframe to an interactive table.\"\n",
              "              style=\"display:none;\">\n",
              "        \n",
              "  <svg xmlns=\"http://www.w3.org/2000/svg\" height=\"24px\"viewBox=\"0 0 24 24\"\n",
              "       width=\"24px\">\n",
              "    <path d=\"M0 0h24v24H0V0z\" fill=\"none\"/>\n",
              "    <path d=\"M18.56 5.44l.94 2.06.94-2.06 2.06-.94-2.06-.94-.94-2.06-.94 2.06-2.06.94zm-11 1L8.5 8.5l.94-2.06 2.06-.94-2.06-.94L8.5 2.5l-.94 2.06-2.06.94zm10 10l.94 2.06.94-2.06 2.06-.94-2.06-.94-.94-2.06-.94 2.06-2.06.94z\"/><path d=\"M17.41 7.96l-1.37-1.37c-.4-.4-.92-.59-1.43-.59-.52 0-1.04.2-1.43.59L10.3 9.45l-7.72 7.72c-.78.78-.78 2.05 0 2.83L4 21.41c.39.39.9.59 1.41.59.51 0 1.02-.2 1.41-.59l7.78-7.78 2.81-2.81c.8-.78.8-2.07 0-2.86zM5.41 20L4 18.59l7.72-7.72 1.47 1.35L5.41 20z\"/>\n",
              "  </svg>\n",
              "      </button>\n",
              "      \n",
              "  <style>\n",
              "    .colab-df-container {\n",
              "      display:flex;\n",
              "      flex-wrap:wrap;\n",
              "      gap: 12px;\n",
              "    }\n",
              "\n",
              "    .colab-df-convert {\n",
              "      background-color: #E8F0FE;\n",
              "      border: none;\n",
              "      border-radius: 50%;\n",
              "      cursor: pointer;\n",
              "      display: none;\n",
              "      fill: #1967D2;\n",
              "      height: 32px;\n",
              "      padding: 0 0 0 0;\n",
              "      width: 32px;\n",
              "    }\n",
              "\n",
              "    .colab-df-convert:hover {\n",
              "      background-color: #E2EBFA;\n",
              "      box-shadow: 0px 1px 2px rgba(60, 64, 67, 0.3), 0px 1px 3px 1px rgba(60, 64, 67, 0.15);\n",
              "      fill: #174EA6;\n",
              "    }\n",
              "\n",
              "    [theme=dark] .colab-df-convert {\n",
              "      background-color: #3B4455;\n",
              "      fill: #D2E3FC;\n",
              "    }\n",
              "\n",
              "    [theme=dark] .colab-df-convert:hover {\n",
              "      background-color: #434B5C;\n",
              "      box-shadow: 0px 1px 3px 1px rgba(0, 0, 0, 0.15);\n",
              "      filter: drop-shadow(0px 1px 2px rgba(0, 0, 0, 0.3));\n",
              "      fill: #FFFFFF;\n",
              "    }\n",
              "  </style>\n",
              "\n",
              "      <script>\n",
              "        const buttonEl =\n",
              "          document.querySelector('#df-da469233-b5ca-4b9f-ba36-88d64d7337e3 button.colab-df-convert');\n",
              "        buttonEl.style.display =\n",
              "          google.colab.kernel.accessAllowed ? 'block' : 'none';\n",
              "\n",
              "        async function convertToInteractive(key) {\n",
              "          const element = document.querySelector('#df-da469233-b5ca-4b9f-ba36-88d64d7337e3');\n",
              "          const dataTable =\n",
              "            await google.colab.kernel.invokeFunction('convertToInteractive',\n",
              "                                                     [key], {});\n",
              "          if (!dataTable) return;\n",
              "\n",
              "          const docLinkHtml = 'Like what you see? Visit the ' +\n",
              "            '<a target=\"_blank\" href=https://colab.research.google.com/notebooks/data_table.ipynb>data table notebook</a>'\n",
              "            + ' to learn more about interactive tables.';\n",
              "          element.innerHTML = '';\n",
              "          dataTable['output_type'] = 'display_data';\n",
              "          await google.colab.output.renderOutput(dataTable, element);\n",
              "          const docLink = document.createElement('div');\n",
              "          docLink.innerHTML = docLinkHtml;\n",
              "          element.appendChild(docLink);\n",
              "        }\n",
              "      </script>\n",
              "    </div>\n",
              "  </div>\n",
              "  "
            ]
          },
          "metadata": {},
          "execution_count": 118
        }
      ]
    },
    {
      "cell_type": "code",
      "source": [],
      "metadata": {
        "id": "uNXacu8A8Nzb"
      },
      "execution_count": null,
      "outputs": []
    },
    {
      "cell_type": "code",
      "source": [
        "pickle.dump(knn, open('drive/MyDrive/FCTP/model.pkl', 'wb'))\n",
        "model=pickle.load(open('drive/MyDrive/FCTP/model.pkl', 'rb'))"
      ],
      "metadata": {
        "id": "9PLe2c18f6X3"
      },
      "execution_count": null,
      "outputs": []
    },
    {
      "cell_type": "code",
      "execution_count": null,
      "metadata": {
        "id": "r_CZ6kdCUXXu"
      },
      "outputs": [],
      "source": [
        "model.predict([[2386, 159, 17, 60, 90, 202, 854, 3, 2]])"
      ]
    },
    {
      "cell_type": "markdown",
      "metadata": {
        "id": "HmcrbyGNPaI4"
      },
      "source": [
        "======================================================================================================================================================================================================================================"
      ]
    },
    {
      "cell_type": "code",
      "execution_count": null,
      "metadata": {
        "id": "4vzJySP3Me4Q"
      },
      "outputs": [],
      "source": [
        "plt.figure(figsize=(10,6))\n",
        "plt.title('k-NN Varying number of neighbors')\n",
        "plt.plot(neighbors, test_accuracy, label='Testing Accuracy')\n",
        "plt.plot(neighbors, train_accuracy, label='Training accuracy')\n",
        "plt.legend()\n",
        "plt.xlabel('Number of neighbors')\n",
        "plt.ylabel('Accuracy')"
      ]
    },
    {
      "cell_type": "code",
      "execution_count": null,
      "metadata": {
        "id": "FIiFGLZsMe4C"
      },
      "outputs": [],
      "source": [
        "print('Data Dimension:')\n",
        "print('Number of Records:', data.shape[0])\n",
        "print('Number of Features:', data.shape[1])"
      ]
    },
    {
      "cell_type": "code",
      "execution_count": null,
      "metadata": {
        "id": "jEUx3fumMe4D"
      },
      "outputs": [],
      "source": [
        "print('Feature Names')\n",
        "print(data.columns)"
      ]
    },
    {
      "cell_type": "code",
      "execution_count": null,
      "metadata": {
        "id": "RtVtEUsCMe4E"
      },
      "outputs": [],
      "source": [
        "print(data.info())"
      ]
    },
    {
      "cell_type": "code",
      "execution_count": null,
      "metadata": {
        "id": "o_xlvaSuMe4F"
      },
      "outputs": [],
      "source": [
        "data.isnull().sum()"
      ]
    },
    {
      "cell_type": "code",
      "execution_count": null,
      "metadata": {
        "id": "wibRH5qAMe4F"
      },
      "outputs": [],
      "source": [
        "data.describe()"
      ]
    },
    {
      "cell_type": "code",
      "execution_count": null,
      "metadata": {
        "id": "2N4uTaKsMe4G"
      },
      "outputs": [],
      "source": [
        "print('Skewness of the below features:')\n",
        "print(data.skew())"
      ]
    },
    {
      "cell_type": "code",
      "execution_count": null,
      "metadata": {
        "id": "AEXwr02OMe4G"
      },
      "outputs": [],
      "source": [
        "skew=data.skew()\n",
        "skew_df=pd.DataFrame(skew,index=None,columns=['Skewness'])\n",
        "plt.figure(figsize=(15,7))\n",
        "sns.barplot(x=skew_df.index,y='Skewness',data=skew_df)\n",
        "plt.xticks(rotation=90)"
      ]
    },
    {
      "cell_type": "code",
      "execution_count": null,
      "metadata": {
        "id": "Ky1THpYMMe4H"
      },
      "outputs": [],
      "source": [
        "class_dist=data.groupby('Cover_Type').size()\n",
        "class_label=pd.DataFrame(class_dist,columns=['Size'])\n",
        "plt.figure(figsize=(8,6))\n",
        "sns.barplot(x=class_label.index,y='Size',data=class_label)"
      ]
    },
    {
      "cell_type": "code",
      "execution_count": null,
      "metadata": {
        "id": "_kab_84oMe4I"
      },
      "outputs": [],
      "source": [
        "for i,number in enumerate(class_dist):\n",
        "    percent=(number/class_dist.sum())*100\n",
        "    print('Cover_Type',class_dist.index[i])\n",
        "    print('%.2f'% percent,'%')"
      ]
    },
    {
      "cell_type": "code",
      "execution_count": null,
      "metadata": {
        "id": "h9WMVdPWMe4J"
      },
      "outputs": [],
      "source": [
        "cont_data=data.loc[:,'Elevation':'Horizontal_Distance_To_Fire_Points']\n",
        "\n",
        "binary_data=data.loc[:,'Wilderness_Area1':'Soil_Type40']\n",
        "\n",
        "Wilderness_data=data.loc[:,'Wilderness_Area1': 'Wilderness_Area4']\n",
        "\n",
        "Soil_data=data.loc[:,'Soil_Type1':'Soil_Type40']"
      ]
    },
    {
      "cell_type": "code",
      "execution_count": null,
      "metadata": {
        "id": "eYCA-7whMe4J"
      },
      "outputs": [],
      "source": [
        "for col in binary_data:\n",
        "    count=binary_data[col].value_counts()\n",
        "    print(col,count)"
      ]
    },
    {
      "cell_type": "code",
      "execution_count": null,
      "metadata": {
        "id": "lM7g3baFMe4J"
      },
      "outputs": [],
      "source": [
        "print('Soil Type',' Occurence_count')\n",
        "for col in binary_data:\n",
        "    count=binary_data[col].value_counts()[1] \n",
        "    if count < 1000:\n",
        "        print(col,count)"
      ]
    },
    {
      "cell_type": "code",
      "execution_count": null,
      "metadata": {
        "id": "v5PdNk7-Me4K"
      },
      "outputs": [],
      "source": [
        "for i, col in enumerate(cont_data.columns):\n",
        "    plt.figure(i)\n",
        "    sns.distplot(cont_data[col])"
      ]
    },
    {
      "cell_type": "code",
      "execution_count": null,
      "metadata": {
        "id": "pd8dNSALMe4K"
      },
      "outputs": [],
      "source": [
        "data['Cover_Type']=data['Cover_Type'].astype('category') \n",
        "\n",
        "for i, col in enumerate(cont_data.columns):\n",
        "    plt.figure(i,figsize=(8,4))\n",
        "    sns.boxplot(x=data['Cover_Type'], y=col, data=data, palette=\"coolwarm\")"
      ]
    },
    {
      "cell_type": "code",
      "execution_count": null,
      "metadata": {
        "id": "23or0oCsMe4L"
      },
      "outputs": [],
      "source": [
        "for i, col in enumerate(binary_data.columns):\n",
        "    plt.figure(i,figsize=(6,4))\n",
        "    sns.countplot(x=col, hue=data['Cover_Type'] ,data=data, palette=\"rainbow\")"
      ]
    },
    {
      "cell_type": "code",
      "execution_count": null,
      "metadata": {
        "id": "JOW5TUauMe4L"
      },
      "outputs": [],
      "source": [
        "def rev_code(row):\n",
        "    for c in Soil_data.columns:\n",
        "        if row[c]==1:\n",
        "            return c  \n",
        "\n",
        "data['Soil_Type']=Soil_data.apply(rev_code, axis=1) "
      ]
    },
    {
      "cell_type": "code",
      "execution_count": null,
      "metadata": {
        "id": "PyETGWndMe4M"
      },
      "outputs": [],
      "source": [
        "def rev_code(row):\n",
        "    for c in Wilderness_data.columns:\n",
        "        if row[c]==1:\n",
        "            return c  \n",
        "\n",
        "data['Wilderness_Type']=Wilderness_data.apply(rev_code, axis=1) "
      ]
    },
    {
      "cell_type": "code",
      "execution_count": null,
      "metadata": {
        "id": "jB_9QLt_Me4N"
      },
      "outputs": [],
      "source": [
        "plt.figure(figsize=(16,8))\n",
        "sns.countplot(x='Wilderness_Type', hue='Cover_Type',data=data, palette=\"rainbow\")\n",
        "plt.xticks(rotation=90)"
      ]
    },
    {
      "cell_type": "code",
      "execution_count": null,
      "metadata": {
        "id": "wYE0eZn3Me4N"
      },
      "outputs": [],
      "source": [
        "plt.figure(figsize=(16,8))\n",
        "sns.countplot(x='Soil_Type', hue='Cover_Type',data=data, palette=\"rainbow\")\n",
        "plt.xticks(rotation=90)"
      ]
    },
    {
      "cell_type": "code",
      "execution_count": null,
      "metadata": {
        "id": "CVUIXC_PMe4N"
      },
      "outputs": [],
      "source": [
        "soil_counts = []\n",
        "for num in range(1,41):\n",
        "    col = ('Soil_Type' + str(num))\n",
        "    this_soil = data[col].groupby(data['Cover_Type'])\n",
        "    totals = []\n",
        "    for value in this_soil.sum():\n",
        "        totals.append(value)\n",
        "    total_sum = sum(totals)\n",
        "    soil_counts.append(total_sum)\n",
        "    print(\"Total Trees in Soil Type {0}: {1}\".format(num, total_sum))\n",
        "    percentages = [ (total*100 / total_sum) for total in totals]\n",
        "    print(\"{0}\\n\".format(percentages))\n",
        "print(\"Number of trees in each soil type:\\n{0}\".format(soil_counts))"
      ]
    },
    {
      "cell_type": "code",
      "execution_count": null,
      "metadata": {
        "id": "W4A7NZyXMe4O"
      },
      "outputs": [],
      "source": [
        "plt.figure(figsize=(15,8))\n",
        "sns.heatmap(cont_data.corr(),cmap='magma',linecolor='white',linewidths=1,annot=True)"
      ]
    },
    {
      "cell_type": "code",
      "execution_count": null,
      "metadata": {
        "id": "-1AlzZ4bMe4O"
      },
      "outputs": [],
      "source": [
        "g = sns.PairGrid(cont_data)\n",
        "g.map(plt.scatter)"
      ]
    },
    {
      "cell_type": "code",
      "execution_count": null,
      "metadata": {
        "id": "cDrR3b9QMe4P"
      },
      "outputs": [],
      "source": [
        "rem=['Hillshade_3pm','Soil_Type7','Soil_Type8','Soil_Type14','Soil_Type15',\n",
        "     'Soil_Type21','Soil_Type25','Soil_Type28','Soil_Type36','Soil_Type37']"
      ]
    },
    {
      "cell_type": "code",
      "execution_count": null,
      "metadata": {
        "id": "Poj_DSLKMe4P"
      },
      "outputs": [],
      "source": [
        "X.drop(rem, axis=1, inplace=True)"
      ]
    },
    {
      "cell_type": "code",
      "execution_count": null,
      "metadata": {
        "id": "PKS4rqJUaZWx"
      },
      "outputs": [],
      "source": [
        "data.head()"
      ]
    },
    {
      "cell_type": "code",
      "execution_count": null,
      "metadata": {
        "id": "drCgVGgIa1K9"
      },
      "outputs": [],
      "source": [
        "max(data.loc[:,'Soil_Type1':'Soil_Type40'].sum(axis=1))"
      ]
    },
    {
      "cell_type": "code",
      "execution_count": null,
      "metadata": {
        "id": "_VKxMrISMe4R"
      },
      "outputs": [],
      "source": [
        "knn = KNeighborsClassifier(n_neighbors=4)"
      ]
    },
    {
      "cell_type": "code",
      "execution_count": null,
      "metadata": {
        "id": "8Qtbez7MMe4R"
      },
      "outputs": [],
      "source": [
        "knn.fit(X_train,y_train)"
      ]
    },
    {
      "cell_type": "code",
      "execution_count": null,
      "metadata": {
        "id": "Tv0UocFCMe4R"
      },
      "outputs": [],
      "source": [
        "Accuracy=knn.score(X_test,y_test)\n",
        "print('KNN Accuracy:',Accuracy)"
      ]
    },
    {
      "cell_type": "code",
      "execution_count": null,
      "metadata": {
        "id": "uhxvknfGMe4S"
      },
      "outputs": [],
      "source": [
        "MLA = []\n",
        "Z = [LinearSVC() , DecisionTreeClassifier() , LogisticRegression() , GaussianNB() ,RandomForestClassifier() , \n",
        "     GradientBoostingClassifier()]\n",
        "M = [\"LinearSVC\" , \"DecisionTreeClassifier\" , \"LogisticRegression\" , \"GaussianNB\" ,\"RandomForestClassifier\" , \n",
        "     \"GradientBoostingClassifier\"]\n",
        "\n",
        "for i in range(0,len(Z)):\n",
        "    model = Z[i]\n",
        "    model.fit( X_train , y_train )\n",
        "    pred = model.predict(X_test)\n",
        "    MLA.append(accuracy_score(pred , y_test))"
      ]
    },
    {
      "cell_type": "code",
      "execution_count": null,
      "metadata": {
        "id": "1GJudWcsMe4S",
        "colab": {
          "base_uri": "https://localhost:8080/",
          "height": 238
        },
        "outputId": "756b520a-cb58-45fa-a41e-b19c4767c250"
      },
      "outputs": [
        {
          "output_type": "execute_result",
          "data": {
            "text/plain": [
              "                    Algorithm  Accuracy\n",
              "0                   LinearSVC  0.385516\n",
              "1      DecisionTreeClassifier  0.926401\n",
              "2          LogisticRegression  0.603132\n",
              "3                  GaussianNB  0.620090\n",
              "4      RandomForestClassifier  0.957800\n",
              "5  GradientBoostingClassifier  0.772705"
            ],
            "text/html": [
              "\n",
              "  <div id=\"df-86f6d2c0-e9ea-41d5-97a6-cd63aac3e1fd\">\n",
              "    <div class=\"colab-df-container\">\n",
              "      <div>\n",
              "<style scoped>\n",
              "    .dataframe tbody tr th:only-of-type {\n",
              "        vertical-align: middle;\n",
              "    }\n",
              "\n",
              "    .dataframe tbody tr th {\n",
              "        vertical-align: top;\n",
              "    }\n",
              "\n",
              "    .dataframe thead th {\n",
              "        text-align: right;\n",
              "    }\n",
              "</style>\n",
              "<table border=\"1\" class=\"dataframe\">\n",
              "  <thead>\n",
              "    <tr style=\"text-align: right;\">\n",
              "      <th></th>\n",
              "      <th>Algorithm</th>\n",
              "      <th>Accuracy</th>\n",
              "    </tr>\n",
              "  </thead>\n",
              "  <tbody>\n",
              "    <tr>\n",
              "      <th>0</th>\n",
              "      <td>LinearSVC</td>\n",
              "      <td>0.385516</td>\n",
              "    </tr>\n",
              "    <tr>\n",
              "      <th>1</th>\n",
              "      <td>DecisionTreeClassifier</td>\n",
              "      <td>0.926401</td>\n",
              "    </tr>\n",
              "    <tr>\n",
              "      <th>2</th>\n",
              "      <td>LogisticRegression</td>\n",
              "      <td>0.603132</td>\n",
              "    </tr>\n",
              "    <tr>\n",
              "      <th>3</th>\n",
              "      <td>GaussianNB</td>\n",
              "      <td>0.620090</td>\n",
              "    </tr>\n",
              "    <tr>\n",
              "      <th>4</th>\n",
              "      <td>RandomForestClassifier</td>\n",
              "      <td>0.957800</td>\n",
              "    </tr>\n",
              "    <tr>\n",
              "      <th>5</th>\n",
              "      <td>GradientBoostingClassifier</td>\n",
              "      <td>0.772705</td>\n",
              "    </tr>\n",
              "  </tbody>\n",
              "</table>\n",
              "</div>\n",
              "      <button class=\"colab-df-convert\" onclick=\"convertToInteractive('df-86f6d2c0-e9ea-41d5-97a6-cd63aac3e1fd')\"\n",
              "              title=\"Convert this dataframe to an interactive table.\"\n",
              "              style=\"display:none;\">\n",
              "        \n",
              "  <svg xmlns=\"http://www.w3.org/2000/svg\" height=\"24px\"viewBox=\"0 0 24 24\"\n",
              "       width=\"24px\">\n",
              "    <path d=\"M0 0h24v24H0V0z\" fill=\"none\"/>\n",
              "    <path d=\"M18.56 5.44l.94 2.06.94-2.06 2.06-.94-2.06-.94-.94-2.06-.94 2.06-2.06.94zm-11 1L8.5 8.5l.94-2.06 2.06-.94-2.06-.94L8.5 2.5l-.94 2.06-2.06.94zm10 10l.94 2.06.94-2.06 2.06-.94-2.06-.94-.94-2.06-.94 2.06-2.06.94z\"/><path d=\"M17.41 7.96l-1.37-1.37c-.4-.4-.92-.59-1.43-.59-.52 0-1.04.2-1.43.59L10.3 9.45l-7.72 7.72c-.78.78-.78 2.05 0 2.83L4 21.41c.39.39.9.59 1.41.59.51 0 1.02-.2 1.41-.59l7.78-7.78 2.81-2.81c.8-.78.8-2.07 0-2.86zM5.41 20L4 18.59l7.72-7.72 1.47 1.35L5.41 20z\"/>\n",
              "  </svg>\n",
              "      </button>\n",
              "      \n",
              "  <style>\n",
              "    .colab-df-container {\n",
              "      display:flex;\n",
              "      flex-wrap:wrap;\n",
              "      gap: 12px;\n",
              "    }\n",
              "\n",
              "    .colab-df-convert {\n",
              "      background-color: #E8F0FE;\n",
              "      border: none;\n",
              "      border-radius: 50%;\n",
              "      cursor: pointer;\n",
              "      display: none;\n",
              "      fill: #1967D2;\n",
              "      height: 32px;\n",
              "      padding: 0 0 0 0;\n",
              "      width: 32px;\n",
              "    }\n",
              "\n",
              "    .colab-df-convert:hover {\n",
              "      background-color: #E2EBFA;\n",
              "      box-shadow: 0px 1px 2px rgba(60, 64, 67, 0.3), 0px 1px 3px 1px rgba(60, 64, 67, 0.15);\n",
              "      fill: #174EA6;\n",
              "    }\n",
              "\n",
              "    [theme=dark] .colab-df-convert {\n",
              "      background-color: #3B4455;\n",
              "      fill: #D2E3FC;\n",
              "    }\n",
              "\n",
              "    [theme=dark] .colab-df-convert:hover {\n",
              "      background-color: #434B5C;\n",
              "      box-shadow: 0px 1px 3px 1px rgba(0, 0, 0, 0.15);\n",
              "      filter: drop-shadow(0px 1px 2px rgba(0, 0, 0, 0.3));\n",
              "      fill: #FFFFFF;\n",
              "    }\n",
              "  </style>\n",
              "\n",
              "      <script>\n",
              "        const buttonEl =\n",
              "          document.querySelector('#df-86f6d2c0-e9ea-41d5-97a6-cd63aac3e1fd button.colab-df-convert');\n",
              "        buttonEl.style.display =\n",
              "          google.colab.kernel.accessAllowed ? 'block' : 'none';\n",
              "\n",
              "        async function convertToInteractive(key) {\n",
              "          const element = document.querySelector('#df-86f6d2c0-e9ea-41d5-97a6-cd63aac3e1fd');\n",
              "          const dataTable =\n",
              "            await google.colab.kernel.invokeFunction('convertToInteractive',\n",
              "                                                     [key], {});\n",
              "          if (!dataTable) return;\n",
              "\n",
              "          const docLinkHtml = 'Like what you see? Visit the ' +\n",
              "            '<a target=\"_blank\" href=https://colab.research.google.com/notebooks/data_table.ipynb>data table notebook</a>'\n",
              "            + ' to learn more about interactive tables.';\n",
              "          element.innerHTML = '';\n",
              "          dataTable['output_type'] = 'display_data';\n",
              "          await google.colab.output.renderOutput(dataTable, element);\n",
              "          const docLink = document.createElement('div');\n",
              "          docLink.innerHTML = docLinkHtml;\n",
              "          element.appendChild(docLink);\n",
              "        }\n",
              "      </script>\n",
              "    </div>\n",
              "  </div>\n",
              "  "
            ]
          },
          "metadata": {},
          "execution_count": 122
        }
      ],
      "source": [
        "d = { \"Algorithm\" : M, \"Accuracy\" : MLA }\n",
        "\n",
        "dfm = pd.DataFrame(d)\n",
        "dfm"
      ]
    }
  ],
  "metadata": {
    "colab": {
      "provenance": []
    },
    "gpuClass": "standard",
    "kernelspec": {
      "display_name": "Python 3",
      "language": "python",
      "name": "python3"
    },
    "language_info": {
      "codemirror_mode": {
        "name": "ipython",
        "version": 3
      },
      "file_extension": ".py",
      "mimetype": "text/x-python",
      "name": "python",
      "nbconvert_exporter": "python",
      "pygments_lexer": "ipython3",
      "version": "3.6.6"
    }
  },
  "nbformat": 4,
  "nbformat_minor": 0
}